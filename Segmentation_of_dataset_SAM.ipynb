{
  "cells": [
    {
      "cell_type": "markdown",
      "metadata": {
        "id": "view-in-github",
        "colab_type": "text"
      },
      "source": [
        "<a href=\"https://colab.research.google.com/github/Naveen11205570/Computer-Vision-and-Deep-Learning/blob/main/Segmentation_of_dataset_SAM.ipynb\" target=\"_parent\"><img src=\"https://colab.research.google.com/assets/colab-badge.svg\" alt=\"Open In Colab\"/></a>"
      ]
    },
    {
      "cell_type": "code",
      "execution_count": null,
      "metadata": {
        "colab": {
          "base_uri": "https://localhost:8080/"
        },
        "id": "RBuS8M8W54IB",
        "outputId": "c8233ced-183f-42d7-b329-2eba4c8e0f54"
      },
      "outputs": [
        {
          "name": "stdout",
          "output_type": "stream",
          "text": [
            "Collecting segment-anything\n",
            "  Downloading segment_anything-1.0-py3-none-any.whl.metadata (487 bytes)\n",
            "Downloading segment_anything-1.0-py3-none-any.whl (36 kB)\n",
            "Installing collected packages: segment-anything\n",
            "Successfully installed segment-anything-1.0\n",
            "Downloading http://yann.lecun.com/exdb/mnist/train-images-idx3-ubyte.gz\n",
            "Failed to download (trying next):\n",
            "HTTP Error 403: Forbidden\n",
            "\n",
            "Downloading https://ossci-datasets.s3.amazonaws.com/mnist/train-images-idx3-ubyte.gz\n",
            "Downloading https://ossci-datasets.s3.amazonaws.com/mnist/train-images-idx3-ubyte.gz to ./data/MNIST/raw/train-images-idx3-ubyte.gz\n"
          ]
        },
        {
          "name": "stderr",
          "output_type": "stream",
          "text": [
            "100%|██████████| 9.91M/9.91M [00:00<00:00, 21.7MB/s]\n"
          ]
        },
        {
          "name": "stdout",
          "output_type": "stream",
          "text": [
            "Extracting ./data/MNIST/raw/train-images-idx3-ubyte.gz to ./data/MNIST/raw\n",
            "\n",
            "Downloading http://yann.lecun.com/exdb/mnist/train-labels-idx1-ubyte.gz\n",
            "Failed to download (trying next):\n",
            "HTTP Error 403: Forbidden\n",
            "\n",
            "Downloading https://ossci-datasets.s3.amazonaws.com/mnist/train-labels-idx1-ubyte.gz\n",
            "Downloading https://ossci-datasets.s3.amazonaws.com/mnist/train-labels-idx1-ubyte.gz to ./data/MNIST/raw/train-labels-idx1-ubyte.gz\n"
          ]
        },
        {
          "name": "stderr",
          "output_type": "stream",
          "text": [
            "100%|██████████| 28.9k/28.9k [00:00<00:00, 606kB/s]\n"
          ]
        },
        {
          "name": "stdout",
          "output_type": "stream",
          "text": [
            "Extracting ./data/MNIST/raw/train-labels-idx1-ubyte.gz to ./data/MNIST/raw\n",
            "\n",
            "Downloading http://yann.lecun.com/exdb/mnist/t10k-images-idx3-ubyte.gz\n",
            "Failed to download (trying next):\n",
            "HTTP Error 403: Forbidden\n",
            "\n",
            "Downloading https://ossci-datasets.s3.amazonaws.com/mnist/t10k-images-idx3-ubyte.gz\n",
            "Downloading https://ossci-datasets.s3.amazonaws.com/mnist/t10k-images-idx3-ubyte.gz to ./data/MNIST/raw/t10k-images-idx3-ubyte.gz\n"
          ]
        },
        {
          "name": "stderr",
          "output_type": "stream",
          "text": [
            "100%|██████████| 1.65M/1.65M [00:00<00:00, 5.48MB/s]\n"
          ]
        },
        {
          "name": "stdout",
          "output_type": "stream",
          "text": [
            "Extracting ./data/MNIST/raw/t10k-images-idx3-ubyte.gz to ./data/MNIST/raw\n",
            "\n",
            "Downloading http://yann.lecun.com/exdb/mnist/t10k-labels-idx1-ubyte.gz\n",
            "Failed to download (trying next):\n",
            "HTTP Error 403: Forbidden\n",
            "\n",
            "Downloading https://ossci-datasets.s3.amazonaws.com/mnist/t10k-labels-idx1-ubyte.gz\n",
            "Downloading https://ossci-datasets.s3.amazonaws.com/mnist/t10k-labels-idx1-ubyte.gz to ./data/MNIST/raw/t10k-labels-idx1-ubyte.gz\n"
          ]
        },
        {
          "name": "stderr",
          "output_type": "stream",
          "text": [
            "100%|██████████| 4.54k/4.54k [00:00<00:00, 2.55MB/s]\n"
          ]
        },
        {
          "name": "stdout",
          "output_type": "stream",
          "text": [
            "Extracting ./data/MNIST/raw/t10k-labels-idx1-ubyte.gz to ./data/MNIST/raw\n",
            "\n",
            "Epoch 1, Loss: 0.018488317728042603\n",
            "Epoch 2, Loss: 0.003987718839198351\n",
            "Epoch 3, Loss: 0.007677287328988314\n",
            "Epoch 4, Loss: 0.004723136313259602\n",
            "Epoch 5, Loss: 0.000586644746363163\n"
          ]
        }
      ],
      "source": [
        "import torch\n",
        "import torch.nn as nn\n",
        "import torchvision.transforms as transforms\n",
        "from torch.utils.data import Dataset, DataLoader\n",
        "from torchvision.datasets import MNIST\n",
        "from sklearn.metrics import precision_score, recall_score, f1_score, accuracy_score\n",
        "import numpy as np\n",
        "import pandas as pd\n",
        "import cv2\n",
        "!pip install segment-anything\n",
        "from segment_anything import sam_model_registry, SamAutomaticMaskGenerator\n",
        "\n",
        "class MNISTSegmentationDataset(Dataset):\n",
        "    def __init__(self, transform=None):\n",
        "        self.dataset = MNIST(root='./data', train=True, download=True)\n",
        "        self.transform = transform or transforms.Compose([\n",
        "            transforms.Resize((28, 28)),\n",
        "            transforms.ToTensor(),\n",
        "        ])\n",
        "\n",
        "    def __len__(self):\n",
        "        return len(self.dataset)\n",
        "\n",
        "    def __getitem__(self, idx):\n",
        "        img, label = self.dataset[idx]\n",
        "        img = self.transform(img)\n",
        "\n",
        "        mask = torch.zeros((1, 28, 28))\n",
        "        mask[0] = (img[0] > 0).float()\n",
        "\n",
        "        return img, mask\n",
        "\n",
        "dataset = MNISTSegmentationDataset()\n",
        "loader = DataLoader(dataset, batch_size=8, shuffle=True)\n",
        "\n",
        "class SmallUNet(nn.Module):\n",
        "    def __init__(self):\n",
        "        super(SmallUNet, self).__init__()\n",
        "        self.encoder = nn.Sequential(\n",
        "            nn.Conv2d(1, 32, kernel_size=3, padding=1), nn.ReLU(),\n",
        "            nn.MaxPool2d(2, 2),\n",
        "            nn.Conv2d(32, 64, kernel_size=3, padding=1), nn.ReLU(),\n",
        "            nn.MaxPool2d(2, 2)\n",
        "        )\n",
        "        self.decoder = nn.Sequential(\n",
        "            nn.ConvTranspose2d(64, 32, kernel_size=2, stride=2),\n",
        "            nn.ReLU(),\n",
        "            nn.ConvTranspose2d(32, 1, kernel_size=2, stride=2),\n",
        "            nn.Sigmoid()\n",
        "        )\n",
        "\n",
        "    def forward(self, x):\n",
        "        x = self.encoder(x)\n",
        "        x = self.decoder(x)\n",
        "        return x\n",
        "\n",
        "device = \"cuda\" if torch.cuda.is_available() else \"cpu\"\n",
        "model = SmallUNet().to(device)\n",
        "criterion = nn.BCELoss()\n",
        "optimizer = torch.optim.Adam(model.parameters(), lr=1e-3)\n",
        "\n",
        "def train_model(model, loader, optimizer, criterion, epochs=5):\n",
        "    model.train()\n",
        "    for epoch in range(epochs):\n",
        "        for images, masks in loader:\n",
        "            images, masks = images.to(device), masks.to(device)\n",
        "            optimizer.zero_grad()\n",
        "            outputs = model(images)\n",
        "            loss = criterion(outputs, masks)\n",
        "            loss.backward()\n",
        "            optimizer.step()\n",
        "        print(f\"Epoch {epoch+1}, Loss: {loss.item()}\")\n",
        "\n",
        "train_model(model, loader, optimizer, criterion)\n",
        "\n",
        "def evaluate(model, loader):\n",
        "    model.eval()\n",
        "    precision, recall, f1, accuracy, dice = [], [], [], [], []\n",
        "    with torch.no_grad():\n",
        "        for images, masks in loader:\n",
        "            images, masks = images.to(device), masks.to(device)\n",
        "            outputs = model(images)\n",
        "            outputs = (outputs > 0.5).float()\n",
        "            y_true = masks.cpu().numpy().flatten()\n",
        "            y_pred = outputs.cpu().numpy().flatten()\n",
        "            precision.append(precision_score(y_true, y_pred, zero_division=1))\n",
        "            recall.append(recall_score(y_true, y_pred, zero_division=1))\n",
        "            f1.append(f1_score(y_true, y_pred, zero_division=1))\n",
        "            accuracy.append(accuracy_score(y_true, y_pred))\n",
        "            dice.append(2 * np.sum(y_pred * y_true) / (np.sum(y_pred) + np.sum(y_true)))\n",
        "    return np.mean(precision), np.mean(recall), np.mean(f1), np.mean(accuracy), np.mean(dice)\n",
        "\n",
        "unet_metrics = evaluate(model, loader)\n",
        "\n"
      ]
    },
    {
      "cell_type": "code",
      "execution_count": null,
      "metadata": {
        "colab": {
          "background_save": true,
          "base_uri": "https://localhost:8080/"
        },
        "id": "Z1bQMXpo6HeW",
        "outputId": "5d38ff1e-2134-42c5-9297-0d1a1a5c25e6"
      },
      "outputs": [
        {
          "name": "stdout",
          "output_type": "stream",
          "text": [
            "Downloaded sam_vit_h_4b8939.pth successfully.\n"
          ]
        },
        {
          "name": "stderr",
          "output_type": "stream",
          "text": [
            "/usr/local/lib/python3.10/dist-packages/segment_anything/build_sam.py:105: FutureWarning: You are using `torch.load` with `weights_only=False` (the current default value), which uses the default pickle module implicitly. It is possible to construct malicious pickle data which will execute arbitrary code during unpickling (See https://github.com/pytorch/pytorch/blob/main/SECURITY.md#untrusted-models for more details). In a future release, the default value for `weights_only` will be flipped to `True`. This limits the functions that could be executed during unpickling. Arbitrary objects will no longer be allowed to be loaded via this mode unless they are explicitly allowlisted by the user via `torch.serialization.add_safe_globals`. We recommend you start setting `weights_only=True` for any use case where you don't have full control of the loaded file. Please open an issue on GitHub for any issues related to this experimental feature.\n",
            "  state_dict = torch.load(f)\n"
          ]
        },
        {
          "name": "stdout",
          "output_type": "stream",
          "text": [
            "       Metric      UNet       SAM\n",
            "0   Precision  0.997513  0.047740\n",
            "1      Recall  0.996365  0.229709\n",
            "2    F1-Score  0.996937  0.078679\n",
            "3    Accuracy  0.998837  0.073214\n",
            "4  Dice-Score  0.996937  0.078679\n"
          ]
        }
      ],
      "source": [
        "import requests\n",
        "\n",
        "sam_checkpoint_url = \"https://dl.fbaipublicfiles.com/segment_anything/sam_vit_h_4b8939.pth\"\n",
        "checkpoint_file = \"sam_vit_h_4b8939.pth\"\n",
        "\n",
        "response = requests.get(sam_checkpoint_url)\n",
        "if response.status_code == 200:\n",
        "    with open(checkpoint_file, \"wb\") as f:\n",
        "        f.write(response.content)\n",
        "    print(f\"Downloaded {checkpoint_file} successfully.\")\n",
        "else:\n",
        "    print(\"Failed to download the file.\")\n",
        "\n",
        "sam = sam_model_registry[\"vit_h\"](checkpoint=checkpoint_file).to(device)\n",
        "sam_mask_generator = SamAutomaticMaskGenerator(sam)\n",
        "\n",
        "def sam_evaluate(loader, sample_size=5):\n",
        "    precision, recall, f1, accuracy, dice = [], [], [], [], []\n",
        "\n",
        "    with torch.no_grad():\n",
        "        for i, (image, mask) in enumerate(loader):\n",
        "            if i >= sample_size:\n",
        "                break\n",
        "\n",
        "            image = image[0].cpu().numpy()\n",
        "\n",
        "            if image.ndim == 3:\n",
        "                if image.shape[0] == 1:\n",
        "                    image = image.squeeze(0)\n",
        "                    image = np.stack((image,) * 3, axis=-1)\n",
        "                elif image.shape[0] == 3:\n",
        "                    image = image.transpose(1, 2, 0)\n",
        "\n",
        "            elif image.ndim == 2:\n",
        "                image = np.stack((image,) * 3, axis=-1)\n",
        "\n",
        "\n",
        "            sam_mask = sam_mask_generator.generate(image)\n",
        "\n",
        "            if len(sam_mask) == 0:\n",
        "                print(\"No masks generated for image index:\", i)\n",
        "                continue\n",
        "\n",
        "            y_true = mask[0].cpu().numpy().flatten()\n",
        "\n",
        "            y_pred = (sam_mask[0]['segmentation']).astype(np.uint8).flatten()\n",
        "\n",
        "            y_pred = np.where(y_pred > 0, 1, 0)\n",
        "\n",
        "            precision.append(precision_score(y_true, y_pred, zero_division=1))\n",
        "            recall.append(recall_score(y_true, y_pred, zero_division=1))\n",
        "            f1.append(f1_score(y_true, y_pred, zero_division=1))\n",
        "            accuracy.append(accuracy_score(y_true, y_pred))\n",
        "            dice.append(2 * np.sum(y_pred * y_true) / (np.sum(y_pred) + np.sum(y_true) + 1e-6))\n",
        "\n",
        "    return np.mean(precision), np.mean(recall), np.mean(f1), np.mean(accuracy), np.mean(dice)\n",
        "\n",
        "sam_metrics = sam_evaluate(loader)\n",
        "\n",
        "comparison = pd.DataFrame({\n",
        "    \"Metric\": [\"Precision\", \"Recall\", \"F1-Score\", \"Accuracy\", \"Dice-Score\"],\n",
        "    \"UNet\": unet_metrics,\n",
        "    \"SAM\": sam_metrics\n",
        "})\n",
        "print(comparison)"
      ]
    }
  ],
  "metadata": {
    "colab": {
      "provenance": [],
      "authorship_tag": "ABX9TyNFOqGYaOiV8xEiDscWU3U6",
      "include_colab_link": true
    },
    "kernelspec": {
      "display_name": "Python 3",
      "name": "python3"
    },
    "language_info": {
      "name": "python"
    }
  },
  "nbformat": 4,
  "nbformat_minor": 0
}